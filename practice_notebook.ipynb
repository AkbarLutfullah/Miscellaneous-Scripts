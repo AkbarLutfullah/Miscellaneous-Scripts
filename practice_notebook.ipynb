{
 "cells": [
  {
   "cell_type": "code",
   "execution_count": 10,
   "metadata": {},
   "outputs": [
    {
     "name": "stdout",
     "output_type": "stream",
     "text": [
      "Choose a number: 56\n",
      "Choose an operator between + - / *: /\n",
      "Choose a second number: 4.5\n",
      "12.444444444444445\n"
     ]
    }
   ],
   "source": [
    "# basic calculator\n",
    "\n",
    "num1 = float(input('Choose a number: '))\n",
    "operator = input('Choose an operator between + - / *: ')\n",
    "num2 = float(input('Choose a second number: '))\n",
    "\n",
    "if operator == '+':\n",
    "    print(num1+num2)\n",
    "elif operator == '-':\n",
    "    print(num1-num2)\n",
    "elif operator == '/':\n",
    "    print(num1/num2)\n",
    "elif operator == '*':\n",
    "    print(num1*num2)\n",
    "else:\n",
    "    print('Invalid operator, try again!')"
   ]
  },
  {
   "cell_type": "code",
   "execution_count": 14,
   "metadata": {},
   "outputs": [
    {
     "name": "stdout",
     "output_type": "stream",
     "text": [
      "What is your name: g\n",
      "What is your age: 5\n",
      "Hello g You are 5 years old! \n"
     ]
    }
   ],
   "source": [
    "name = input('What is your name: ')\n",
    "age = input('What is your age: ')\n",
    "print('Hello ' + name  + ' You are ' + age + ' years old! ')"
   ]
  },
  {
   "cell_type": "code",
   "execution_count": 1,
   "metadata": {},
   "outputs": [
    {
     "name": "stdout",
     "output_type": "stream",
     "text": [
      "Enter your favourite colour: pink\n",
      "Enter a plural noun: teeth\n",
      "Enter your favourite celebrity: brad pitt\n",
      "Roses are pink\n",
      "teeth are blue\n",
      "I love brad pitt\n"
     ]
    }
   ],
   "source": [
    "# mad libs game\n",
    "\n",
    "Colour = input('Enter your favourite colour: ')\n",
    "Plural_Noun = input('Enter a plural noun: ')\n",
    "Celebrity = input('Enter your favourite celebrity: ')\n",
    "\n",
    "print('Roses are ' + Colour)\n",
    "print(Plural_Noun + ' are blue')\n",
    "print('I love ' + Celebrity)"
   ]
  },
  {
   "cell_type": "code",
   "execution_count": 2,
   "metadata": {},
   "outputs": [
    {
     "data": {
      "text/plain": [
       "<function __main__.sqr_num(num)>"
      ]
     },
     "execution_count": 2,
     "metadata": {},
     "output_type": "execute_result"
    }
   ],
   "source": [
    "def sqr_num(num):\n",
    "    return pow(num,2)\n",
    "sqr_num"
   ]
  },
  {
   "cell_type": "code",
   "execution_count": 3,
   "metadata": {},
   "outputs": [
    {
     "data": {
      "text/plain": [
       "25"
      ]
     },
     "execution_count": 3,
     "metadata": {},
     "output_type": "execute_result"
    }
   ],
   "source": [
    "sqr_num(5)"
   ]
  },
  {
   "cell_type": "code",
   "execution_count": 9,
   "metadata": {},
   "outputs": [],
   "source": [
    "def exp_func(num,power):\n",
    "    result = 1\n",
    "    for index in range(power):\n",
    "        result=result*num\n",
    "    return result"
   ]
  },
  {
   "cell_type": "code",
   "execution_count": 10,
   "metadata": {},
   "outputs": [
    {
     "data": {
      "text/plain": [
       "125"
      ]
     },
     "execution_count": 10,
     "metadata": {},
     "output_type": "execute_result"
    }
   ],
   "source": [
    "exp_func(5,3)"
   ]
  },
  {
   "cell_type": "code",
   "execution_count": 14,
   "metadata": {},
   "outputs": [],
   "source": [
    "def max_num(num1,num2,num3):\n",
    "    if num1>num2 and num1>num3:\n",
    "        return num1\n",
    "    elif num2>num1 and num2>num3:\n",
    "        return num2\n",
    "    else: \n",
    "        return num3"
   ]
  },
  {
   "cell_type": "code",
   "execution_count": 15,
   "metadata": {},
   "outputs": [
    {
     "data": {
      "text/plain": [
       "7"
      ]
     },
     "execution_count": 15,
     "metadata": {},
     "output_type": "execute_result"
    }
   ],
   "source": [
    "max_num(4,7,6)"
   ]
  },
  {
   "cell_type": "code",
   "execution_count": null,
   "metadata": {},
   "outputs": [],
   "source": []
  }
 ],
 "metadata": {
  "kernelspec": {
   "display_name": "Python 3",
   "language": "python",
   "name": "python3"
  },
  "language_info": {
   "codemirror_mode": {
    "name": "ipython",
    "version": 3
   },
   "file_extension": ".py",
   "mimetype": "text/x-python",
   "name": "python",
   "nbconvert_exporter": "python",
   "pygments_lexer": "ipython3",
   "version": "3.7.4"
  }
 },
 "nbformat": 4,
 "nbformat_minor": 2
}
